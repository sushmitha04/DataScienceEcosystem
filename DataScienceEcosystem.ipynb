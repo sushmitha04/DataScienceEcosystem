{
 "cells": [
  {
   "cell_type": "markdown",
   "id": "303b5ddc-5adb-4d69-afb5-8b3bd5319014",
   "metadata": {},
   "source": [
    "# Data Science Tools and Ecosysytem"
   ]
  },
  {
   "cell_type": "markdown",
   "id": "6a03e5ba-8e20-4dbf-a453-6c1105c2611c",
   "metadata": {},
   "source": [
    "In this notebook,Data Science Tools and Ecosystem are summerized"
   ]
  },
  {
   "cell_type": "markdown",
   "id": "b41951d0-4fcb-45bc-addd-d616ceae3c63",
   "metadata": {},
   "source": [
    "Some of the Popular Languages that Data Scientist use are:\n",
    "1. Python\n",
    "2. R\n",
    "3. Java\n",
    "4. Sql"
   ]
  },
  {
   "cell_type": "markdown",
   "id": "9c68361d-274c-4eea-a88f-a664362792a3",
   "metadata": {},
   "source": [
    "Some of the commonly used libraries used by Data Scientists include :\n",
    "\n",
    "1. Numpy\n",
    "2. Pandas\n",
    "3. Matplotlib\n",
    "4. SciPy"
   ]
  },
  {
   "cell_type": "markdown",
   "id": "dc998779-e47c-40c2-ae48-42085dc60154",
   "metadata": {},
   "source": [
    "|Data Science Tools|\n",
    "|---|\n",
    "|jupyter notebook|\n",
    "|TensorFlow|\n",
    "|ApacheHadoop|"
   ]
  },
  {
   "cell_type": "markdown",
   "id": "2ebde960-61d5-4fe3-901d-fd47ee5e7d1a",
   "metadata": {},
   "source": [
    "### Below are few examples of evaluating Arithmetic Expression in Python"
   ]
  },
  {
   "cell_type": "code",
   "execution_count": 20,
   "id": "0c3979bd-7c7a-4653-8797-4b3300ed7a69",
   "metadata": {},
   "outputs": [
    {
     "data": {
      "text/plain": [
       "17"
      ]
     },
     "execution_count": 20,
     "metadata": {},
     "output_type": "execute_result"
    }
   ],
   "source": [
    "#This is simple arithmetic expression to multiply then add integers\n",
    "(3*4)+5"
   ]
  },
  {
   "cell_type": "code",
   "execution_count": 22,
   "id": "666f9e16-5cf1-4d3c-81a6-499d3ce76084",
   "metadata": {},
   "outputs": [
    {
     "data": {
      "text/plain": [
       "3.3333333333333335"
      ]
     },
     "execution_count": 22,
     "metadata": {},
     "output_type": "execute_result"
    }
   ],
   "source": [
    "#This will convert 200 minutes to hours by divding by 60\n",
    "200/60"
   ]
  },
  {
   "cell_type": "markdown",
   "id": "da89a00a-101c-4004-9527-d718f39da794",
   "metadata": {},
   "source": [
    "__Objectives__\n",
    "* List Popular Languages for Data Science\n",
    "* List Popular Libraries for Data Science\n",
    "* List Popular Tools for Data Science\n",
    "* Provide comments line in cell"
   ]
  },
  {
   "cell_type": "markdown",
   "id": "efd9751d-0553-47ab-9af9-9d3a030667ee",
   "metadata": {},
   "source": [
    "## Author\n",
    "Sushmitha"
   ]
  },
  {
   "cell_type": "code",
   "execution_count": null,
   "id": "4e713f49-7c83-49ee-8988-96dfb43b527d",
   "metadata": {},
   "outputs": [],
   "source": []
  }
 ],
 "metadata": {
  "kernelspec": {
   "display_name": "Python [conda env:base] *",
   "language": "python",
   "name": "conda-base-py"
  },
  "language_info": {
   "codemirror_mode": {
    "name": "ipython",
    "version": 3
   },
   "file_extension": ".py",
   "mimetype": "text/x-python",
   "name": "python",
   "nbconvert_exporter": "python",
   "pygments_lexer": "ipython3",
   "version": "3.12.7"
  }
 },
 "nbformat": 4,
 "nbformat_minor": 5
}
